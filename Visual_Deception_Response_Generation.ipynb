{
  "nbformat": 4,
  "nbformat_minor": 0,
  "metadata": {
    "colab": {
      "provenance": []
    },
    "kernelspec": {
      "name": "python3",
      "display_name": "Python 3"
    },
    "language_info": {
      "name": "python"
    }
  },
  "cells": [
    {
      "cell_type": "markdown",
      "source": [
        "\n",
        "\n",
        "---\n",
        "\n",
        "# Loading Libraries\n",
        "\n",
        "---\n",
        "\n"
      ],
      "metadata": {
        "id": "6toA_rONmz26"
      }
    },
    {
      "cell_type": "code",
      "execution_count": null,
      "metadata": {
        "id": "_ZKjHHgElFR8"
      },
      "outputs": [],
      "source": [
        "import pandas as pd, os\n",
        "from openai import OpenAI\n",
        "import pandas as pd, csv\n",
        "from tenacity import retry, wait_fixed\n",
        "from PIL import Image\n",
        "import base64\n",
        "import random\n",
        "import shutil\n",
        "import re\n",
        "import os\n",
        "import csv\n",
        "from tqdm.notebook import tqdm  # Import tqdm for Colab/Jupyter notebooks\n",
        "import time                     # Added for potential simulation/debugging"
      ]
    },
    {
      "cell_type": "code",
      "source": [
        "client = OpenAI(api_key=\"\")"
      ],
      "metadata": {
        "id": "n3OzlV7_z23f"
      },
      "execution_count": null,
      "outputs": []
    },
    {
      "cell_type": "code",
      "source": [
        "@retry(wait=wait_fixed(2))  # Retry with 2-second delay\n",
        "def generate_response(model_name, prompt, image_path):\n",
        "    try:\n",
        "        with open(image_path, \"rb\") as image_file:\n",
        "            base64_image = base64.b64encode(image_file.read()).decode(\"utf-8\")\n",
        "            image_url = f\"data:image/png;base64,{base64_image}\"\n",
        "\n",
        "            response = client.chat.completions.create(\n",
        "                model=model_name,\n",
        "                messages=[\n",
        "                    {\"role\": \"user\", \"content\": prompt},  # Same prompt for all images\n",
        "                    {\n",
        "                        \"role\": \"user\",\n",
        "                        \"content\": [\n",
        "                            {\n",
        "                                \"type\": \"image_url\",\n",
        "                                \"image_url\": {\"url\": image_url}\n",
        "                            }\n",
        "                        ]\n",
        "                    }\n",
        "                ],\n",
        "                max_tokens=1024,\n",
        "            )\n",
        "            return response.choices[0].message.content\n",
        "\n",
        "    except Exception as e:\n",
        "        print(f\"❌ Error processing {image_path}: {e}\")\n",
        "        return \"ERROR\"\n"
      ],
      "metadata": {
        "id": "2yYj_F_bFt_W"
      },
      "execution_count": null,
      "outputs": []
    },
    {
      "cell_type": "markdown",
      "source": [
        "\n",
        "\n",
        "---\n",
        "\n",
        "# Truncated Axis\n",
        "\n",
        "---\n",
        "\n"
      ],
      "metadata": {
        "id": "nIuYir90z_Mv"
      }
    },
    {
      "cell_type": "markdown",
      "source": [
        "Getting Response from GPT 4o\n",
        "\n",
        "\n",
        "---\n",
        "\n"
      ],
      "metadata": {
        "id": "W0U31aKPZTwo"
      }
    },
    {
      "cell_type": "code",
      "source": [
        "prompt=\"\"\"\n",
        "Analyze the given chart and determine the correct answer to the multiple-choice question. Select the option number that best aligns with the data presented.\n",
        "\n",
        "\n",
        "Additionally, provide a concise yet comprehensive 1 line explanation justifying the selected option. The explanation should include:\n",
        "\n",
        "\n",
        "1. The rationale for choosing the correct answer.\n",
        "2. The reasons why the other options are incorrect.\n",
        "\n",
        "\n",
        "**The output should strictly follow the given format**:\n",
        "\n",
        "\n",
        "Option {1-7}: {1 line explanation covering both selection and elimination reasons}\n",
        "\n",
        "\n",
        "Question: How would you rate the difference in values between the first bar and the second bar?\n",
        "\n",
        "\n",
        "Answer Options:\n",
        "1. No difference: The values of the two bars are exactly equal.\n",
        "2. Extremely small difference: The difference is less than 5% of the larger value.\n",
        "3. Very small difference: The difference is 5% to less than 10% of the larger value.\n",
        "4. Small difference: The difference is 10% to less than 25% of the larger value.\n",
        "5. Large difference: The difference is 25% to less than 50% of the larger value.\n",
        "6. Very large difference: The difference is 50% to less than 100% of the larger value.\n",
        "7. Extremely large difference: The difference is 100% or more (i.e., one bar is at least double the other).\n",
        "\"\"\"\n"
      ],
      "metadata": {
        "id": "N4E7tardZqk6"
      },
      "execution_count": null,
      "outputs": []
    },
    {
      "cell_type": "code",
      "source": [
        "# Parameters\n",
        "model_name = \"gpt-4o\" #change\n",
        "folder_path = \"/content/drive/MyDrive/Visual_Deception/Data/FinalDataset/TruncatedAxis\"  # Change this\n",
        "all_ids = list(set([file.split(\"_\")[0] + \"_\" + file.split(\"_\")[1] + \"_\" + file.split(\"_\")[2] for file in os.listdir(folder_path)]))\n",
        "print(f\"Total IDs Found: {len(all_ids)}\")\n",
        "\n",
        "# Open CSV to Write\n",
        "with open(\"/content/drive/MyDrive/Visual_Deception/Responses/GPT4o_Responses/Trunated_Axis_Responses.csv\", \"w+\", newline=\"\") as f:  #change\n",
        "    csv_writer = csv.writer(f)\n",
        "    csv_writer.writerow([\"id\", \"prompt\", \"Aggressive\", \"Control\"])\n",
        "\n",
        "    processed = 0\n",
        "    skipped = 0\n",
        "\n",
        "    for id in all_ids:\n",
        "        image_paths = [os.path.join(folder_path, f\"{id}_Aggressive.png\"),\n",
        "                       os.path.join(folder_path, f\"{id}_Control.png\")]\n",
        "\n",
        "        # Check if all images exist\n",
        "        if all(os.path.exists(image) for image in image_paths):\n",
        "            print(f\"✅ Processing {id}\")\n",
        "\n",
        "            responses = []\n",
        "            for image in image_paths:\n",
        "                try:\n",
        "                    response = generate_response(model_name, prompt, image)\n",
        "                    responses.append(response)\n",
        "                    print(f\" - {image} Processed\")\n",
        "                except Exception as e:\n",
        "                    responses.append(\"ERROR\")\n",
        "                    print(f\"❌ Failed {image}: {e}\")\n",
        "            print(f\"Completed {processed+1} out of 100\")\n",
        "            csv_writer.writerow([id, prompt] + responses)\n",
        "            processed += 1\n",
        "        else:\n",
        "            print(f\"⚠️ Skipping {id} (Missing Images)\")\n",
        "            skipped += 1\n",
        "\n",
        "        # Stop after 100 processed IDs\n",
        "        if processed == 100:\n",
        "            print(\"✅ Experiment Completed for 100 IDs\")\n",
        "            break\n",
        "\n",
        "    print(f\"Total Processed: {processed}, Total Skipped: {skipped}\")\n"
      ],
      "metadata": {
        "id": "oTg6BrjbTOpt"
      },
      "execution_count": null,
      "outputs": []
    },
    {
      "cell_type": "markdown",
      "source": [
        "\n",
        "\n",
        "---\n",
        "\n",
        "# Inverted Axis\n",
        "\n",
        "---\n",
        "\n"
      ],
      "metadata": {
        "id": "JjZjhVKrSjYW"
      }
    },
    {
      "cell_type": "markdown",
      "source": [
        "Getting Response from GPT 4o\n",
        "\n",
        "\n",
        "---\n",
        "\n"
      ],
      "metadata": {
        "id": "qPg7j3CuSjYX"
      }
    },
    {
      "cell_type": "code",
      "source": [
        "\n",
        "prompt=\"\"\"\n",
        "Analyze the given chart and determine the correct answer to the multiple-choice question. Select the option number that best aligns with the data presented.\n",
        "\n",
        "\n",
        "Additionally, provide a concise yet comprehensive 1 line explanation justifying the selected option. The explanation should include:\n",
        "\n",
        "\n",
        "1. The rationale for choosing the correct answer.\n",
        "2. The reasons why the other options are incorrect.\n",
        "\n",
        "\n",
        "**The output should strictly follow the given format**:\n",
        "\n",
        "\n",
        "Option {1-7}: {1 line explanation covering both selection and elimination reasons}\n",
        "\n",
        "\n",
        "Question: How strongly do you agree that the trend shows an overall increase?\n",
        "\n",
        "\n",
        "Answer Options:\n",
        "1. Strongly Disagree : The y-values decrease for 100% of the x-axis range, with a strong and consistent downward trend.\n",
        "2. Disagree : The y-values decrease for 50% to less than 100% of the x-axis range.\n",
        "3. Somewhat Disagree : The y-values decrease for 1% to less than 50% of the x-axis range.\n",
        "4. Neutral : The y-values neither show a clear increase nor a decrease across the x-axis.\n",
        "5. Somewhat Agree : The y-values increase for 1% to less than 50% of the x-axis range.\n",
        "6. Agree : The y-values increase for 50% to less than 100% of the x-axis range.\n",
        "7. Strongly Agree : The y-values increase for 100% of the x-axis range, with a strong and consistent upward trend.\n",
        "\"\"\"\n",
        "\n",
        "\n"
      ],
      "metadata": {
        "id": "S0_DOFxMSjYX"
      },
      "execution_count": null,
      "outputs": []
    },
    {
      "cell_type": "code",
      "source": [
        "# Parameters\n",
        "model_name = \"gpt-4o\"\n",
        "folder_path = \"/content/drive/MyDrive/Visual_Deception/Data/FinalDataset/InvertedAxis\"  # Change this\n",
        "all_ids = list(set([file.split(\"_\")[0] for file in os.listdir(folder_path)]))\n",
        "print(f\"Total IDs Found: {len(all_ids)}\")\n",
        "\n",
        "# Open CSV to Write\n",
        "with open(\"/content/drive/MyDrive/Visual_Deception/Responses/GPT4o_Responses/Inverted_Axis_Responses_informed.csv\", \"w+\", newline=\"\") as f:\n",
        "    csv_writer = csv.writer(f)\n",
        "    csv_writer.writerow([\"id\", \"prompt\", \"Aggressive\", \"Control\"])\n",
        "\n",
        "    processed = 0\n",
        "    skipped = 0\n",
        "\n",
        "    for id in all_ids:\n",
        "        image_paths = [os.path.join(folder_path, f\"{id}_Aggressive.png\"),\n",
        "                       os.path.join(folder_path, f\"{id}_Control.png\")]\n",
        "\n",
        "        # Check if all images exist\n",
        "        if all(os.path.exists(image) for image in image_paths):\n",
        "            print(f\"✅ Processing {id}\")\n",
        "\n",
        "            responses = []\n",
        "            for image in image_paths:\n",
        "                try:\n",
        "                    response = generate_response(model_name, prompt, image)\n",
        "                    responses.append(response)\n",
        "                    print(f\" - {image} Processed\")\n",
        "                except Exception as e:\n",
        "                    responses.append(\"ERROR\")\n",
        "                    print(f\"❌ Failed {image}: {e}\")\n",
        "            print(f\"Completed {processed+1} out of 100\")\n",
        "            csv_writer.writerow([id, prompt] + responses)\n",
        "            processed += 1\n",
        "        else:\n",
        "            print(f\"⚠️ Skipping {id} (Missing Images)\")\n",
        "            skipped += 1\n",
        "\n",
        "        # Stop after 100 processed IDs\n",
        "        if processed == 100:\n",
        "            print(\"✅ Experiment Completed for 100 IDs\")\n",
        "\n",
        "    print(f\"Total Processed: {processed}, Total Skipped: {skipped}\")\n"
      ],
      "metadata": {
        "id": "adxD3e54SjYX"
      },
      "execution_count": null,
      "outputs": []
    },
    {
      "cell_type": "markdown",
      "source": [
        "\n",
        "\n",
        "---\n",
        "\n",
        "# Aspect Ratio\n",
        "\n",
        "---\n",
        "\n"
      ],
      "metadata": {
        "id": "tvLq6KjJq1Xk"
      }
    },
    {
      "cell_type": "markdown",
      "source": [
        "Getting Response from GPT 4o\n",
        "\n",
        "\n",
        "---\n",
        "\n"
      ],
      "metadata": {
        "id": "lngKEMRcq1Xl"
      }
    },
    {
      "cell_type": "code",
      "source": [
        "prompt=\"\"\"\n",
        "Analyze the given chart and determine the correct answer to the multiple-choice question. Select the option number that best aligns with the data presented.\n",
        "\n",
        "\n",
        "Additionally, provide a concise yet comprehensive 1 line explanation justifying the selected option. The explanation should include:\n",
        "\n",
        "\n",
        "1. The rationale for choosing the correct answer.\n",
        "2. The reasons why the other options are incorrect.\n",
        "\n",
        "\n",
        "**The output should strictly follow the given format**:\n",
        "\n",
        "\n",
        "Option {1-7}: {1 line explanation covering both selection and elimination reasons}\n",
        "\n",
        "\n",
        "Question: How strong is the trend depicted in the chart?\n",
        "\n",
        "\n",
        "Answer Options:\n",
        "1. Neutral : The trend is neither clearly increasing nor decreasing, with no consistent direction.\n",
        "2. Very Weak : The trend is nearly flat, with barely any noticeable change, and occupies less than 10% of the x-axis.\n",
        "3. Weak : The trend is shallow and difficult to distinguish, with small changes in y-values, and occupies around 10% to 30% of the x-axis.\n",
        "4. Slightly Weak : The trend is present but not very strong, showing fluctuations, and occupies around 30% to 50% of the x-axis.\n",
        "5. Slightly Strong : The trend is noticeable and somewhat steady, with a clear direction, and occupies around 50% to 70% of the x-axis.\n",
        "6. Strong : The trend is distinct and sustained, with a well-defined direction, and occupies around 70% to 90% of the x-axis.\n",
        "7. Very Strong : The trend is steep and consistent, dominating the entire chart, and occupies more than 90% of the x-axis.\n",
        "\"\"\"\n"
      ],
      "metadata": {
        "id": "SV_WgseRq1Xl"
      },
      "execution_count": null,
      "outputs": []
    },
    {
      "cell_type": "code",
      "source": [
        "# Parameters\n",
        "model_name = \"gpt-4o\"\n",
        "folder_path = \"/content/drive/MyDrive/Visual_Deception/Data/FinalDataset/AspectRatio\"  # Change this\n",
        "all_ids = list(set([file.split(\"_\")[0]+\"_\"+ file.split(\"_\")[1] +\"_\"+ file.split(\"_\")[2] for file in os.listdir(folder_path)]))\n",
        "print(f\"Total IDs Found: {len(all_ids)}\")\n",
        "\n",
        "# Open CSV to Write\n",
        "with open(\"/content/drive/MyDrive/Visual_Deception/Responses/GPT4o_Responses/Aspect_Ratio_Responses.csv\", \"w+\", newline=\"\") as f:\n",
        "    csv_writer = csv.writer(f)\n",
        "    csv_writer.writerow([\"id\", \"prompt\", \"Aggressive\", \"Control\"])\n",
        "\n",
        "    processed = 0\n",
        "    skipped = 0\n",
        "\n",
        "    for id in all_ids:\n",
        "        image_paths = [os.path.join(folder_path, f\"{id}_aggressive.png\"),\n",
        "                       os.path.join(folder_path, f\"{id}_regular.png\")]\n",
        "\n",
        "        # Check if all images exist\n",
        "        if all(os.path.exists(image) for image in image_paths):\n",
        "            print(f\"✅ Processing {id}\")\n",
        "\n",
        "            responses = []\n",
        "            for image in image_paths:\n",
        "                try:\n",
        "                    response = generate_response(model_name, prompt, image)\n",
        "                    responses.append(response)\n",
        "                    print(f\" - {image} Processed\")\n",
        "                except Exception as e:\n",
        "                    responses.append(\"ERROR\")\n",
        "                    print(f\"❌ Failed {image}: {e}\")\n",
        "            print(f\"Completed {processed+1} out of 100\")\n",
        "            csv_writer.writerow([id, prompt] + responses)\n",
        "            processed += 1\n",
        "        else:\n",
        "            print(f\"⚠️ Skipping {id} (Missing Images)\")\n",
        "            skipped += 1\n",
        "\n",
        "        # Stop after 100 processed IDs\n",
        "        if processed == 100:\n",
        "            print(\"✅ Experiment Completed for 100 IDs\")\n",
        "\n",
        "    print(f\"Total Processed: {processed}, Total Skipped: {skipped}\")\n"
      ],
      "metadata": {
        "id": "W6mScrb8q1Xl"
      },
      "execution_count": null,
      "outputs": []
    },
    {
      "cell_type": "markdown",
      "source": [
        "\n",
        "\n",
        "---\n",
        "\n",
        "# Dual Axis\n",
        "\n",
        "---\n",
        "\n"
      ],
      "metadata": {
        "id": "vMaMTK6A9win"
      }
    },
    {
      "cell_type": "markdown",
      "source": [
        "Getting Response from GPT 4o\n",
        "\n",
        "\n",
        "---\n",
        "\n"
      ],
      "metadata": {
        "id": "H-LZmeH99wio"
      }
    },
    {
      "cell_type": "code",
      "source": [
        "prompt=\"\"\"\n",
        "Analyze the given chart and determine the correct answer to the multiple-choice question. Select the option number that best aligns with the data presented.\n",
        "\n",
        "\n",
        "Additionally, provide a concise yet comprehensive 1 line explanation justifying the selected option. The explanation should include:\n",
        "\n",
        "\n",
        "1. The rationale for choosing the correct answer.\n",
        "2. The reasons why the other options are incorrect.\n",
        "\n",
        "\n",
        "**The output should strictly follow the given format**:\n",
        "\n",
        "\n",
        "Option {1-7}: {1 line explanation covering both selection and elimination reasons}\n",
        "\n",
        "\n",
        "Question: How would you rate the difference between the trends of the two lines in the chart?\n",
        "\n",
        "\n",
        "Answer Options:\n",
        "1. No Similarity: The trend is similar for 0% of the chart, showing completely different movements.\n",
        "2. Extremely Small Similarity: The trend is similar for less than 5% of the chart, with only brief matching segments.\n",
        "3. Very Small Similarity: The trend is similar for 5% to less than 10% of the chart, with minimal overlap.\n",
        "4. Small Similarity: The trend is similar for 10% to less than 25% of the chart, but differences dominate.\n",
        "5. Large Similarity: The trend is similar for 25% to less than 50% of the chart, showing a mix of similarities and differences.\n",
        "6. Very Large Similarity: The trend is similar for 50% to less than 100% of the chart, with only minor differences.\n",
        "7. Extremely Large Similarity: The trend is similar for 100% of the chart, following the same direction, slope, and fluctuations.\n",
        "\"\"\"\n",
        "\n"
      ],
      "metadata": {
        "id": "HvEnmxdf9wio"
      },
      "execution_count": null,
      "outputs": []
    },
    {
      "cell_type": "code",
      "source": [
        "# Parameters\n",
        "model_name = \"gpt-4o\"\n",
        "folder_path = \"/content/drive/MyDrive/Visual_Deception/Data/FinalDataset/DualAxis\"  # Change this\n",
        "all_ids = list(set([file.split(\"_\")[0]+\"_\"+ file.split(\"_\")[1] +\"_\"+ file.split(\"_\")[2] for file in os.listdir(folder_path)]))\n",
        "print(f\"Total IDs Found: {len(all_ids)}\")\n",
        "\n",
        "# Open CSV to Write\n",
        "with open(\"/content/drive/MyDrive/Visual_Deception/Responses/GPT4o_Responses/Dual_Axis_Responses.csv\", \"w+\", newline=\"\") as f:\n",
        "    csv_writer = csv.writer(f)\n",
        "    csv_writer.writerow([\"id\", \"prompt\", \"Aggressive\", \"Control\"])\n",
        "\n",
        "    processed = 0\n",
        "    skipped = 0\n",
        "\n",
        "    for id in all_ids:\n",
        "        image_paths = [os.path.join(folder_path, f\"{id}_dual.png\"),\n",
        "                       os.path.join(folder_path, f\"{id}_regular.png\")]\n",
        "\n",
        "        # Check if all images exist\n",
        "        if all(os.path.exists(image) for image in image_paths):\n",
        "            print(f\"✅ Processing {id}\")\n",
        "\n",
        "            responses = []\n",
        "            for image in image_paths:\n",
        "                try:\n",
        "                    response = generate_response(model_name, prompt, image)\n",
        "                    responses.append(response)\n",
        "                    print(f\" - {image} Processed\")\n",
        "                except Exception as e:\n",
        "                    responses.append(\"ERROR\")\n",
        "                    print(f\"❌ Failed {image}: {e}\")\n",
        "            print(f\"Completed {processed+1} out of 100\")\n",
        "            csv_writer.writerow([id, prompt] + responses)\n",
        "            processed += 1\n",
        "        else:\n",
        "            print(f\"⚠️ Skipping {id} (Missing Images)\")\n",
        "            skipped += 1\n",
        "\n",
        "        # Stop after 100 processed IDs\n",
        "        if processed == 100:\n",
        "            print(\"✅ Experiment Completed for 100 IDs\")\n",
        "\n",
        "    print(f\"Total Processed: {processed}, Total Skipped: {skipped}\")\n"
      ],
      "metadata": {
        "id": "TUU_hbn09wio"
      },
      "execution_count": null,
      "outputs": []
    },
    {
      "cell_type": "markdown",
      "source": [
        "\n",
        "\n",
        "---\n",
        "\n",
        "# Quantity Distortion\n",
        "\n",
        "---\n",
        "\n"
      ],
      "metadata": {
        "id": "Yg6SZ3OmzyqZ"
      }
    },
    {
      "cell_type": "markdown",
      "source": [
        "Getting Response from GPT 4o\n",
        "\n",
        "\n",
        "---\n",
        "\n"
      ],
      "metadata": {
        "id": "r1vA6S_Izyqb"
      }
    },
    {
      "cell_type": "code",
      "source": [
        "prompt=\"\"\"\n",
        "Analyze the given chart and determine the correct answer to the multiple-choice question. Select the option number that best aligns with the data presented.\n",
        "\n",
        "\n",
        "Additionally, provide a concise yet comprehensive 1 line explanation justifying the selected option. The explanation should include:\n",
        "\n",
        "\n",
        "1. The rationale for choosing the correct answer.\n",
        "2. The reasons why the other options are incorrect.\n",
        "\n",
        "\n",
        "**The output should strictly follow the given format**:\n",
        "\n",
        "\n",
        "Option {1-7}: {1 line explanation covering both selection and elimination reasons}\n",
        "\n",
        "\n",
        "Question: Which statement best describes the disparity between the quantities represented by the circles?\n",
        "\n",
        "\n",
        "Answer Options:\n",
        "1. There is no disparity: The circles represent equal quantities.\n",
        "2. The disparity is very small: The larger circle represents 1x to 1.5x the quantity of the smaller circle.\n",
        "3. The disparity is small: The larger circle represents 1.5x to 2x the quantity of the smaller circle.\n",
        "4. The disparity is moderate: The larger circle represents 2x to 3x the quantity of the smaller circle.\n",
        "5. The disparity is large: The larger circle represents 3x to 5x the quantity of the smaller circle.\n",
        "6. The disparity is very large: The larger circle represents 5x to 10x the quantity of the smaller circle.\n",
        "7. The disparity is extremely large: The larger circle represents more than 10x the quantity of the smaller circle.\n",
        "\"\"\"\n",
        "\n"
      ],
      "metadata": {
        "id": "n3fiEr4Hzyqb"
      },
      "execution_count": null,
      "outputs": []
    },
    {
      "cell_type": "code",
      "source": [
        "# Parameters\n",
        "model_name = \"gpt-4o\"\n",
        "folder_path = \"/content/drive/MyDrive/Visual_Deception/Data/FinalDataset/QuantityDistortion\"  # Change this\n",
        "all_ids = list(set([file.split(\"_\")[0] for file in os.listdir(folder_path)]))\n",
        "print(f\"Total IDs Found: {len(all_ids)}\")\n",
        "\n",
        "# Open CSV to Write\n",
        "with open(\"/content/drive/MyDrive/Visual_Deception/Responses/GPT4o_Responses/Quantity_Distortion_Responses.csv\", \"w+\", newline=\"\") as f:\n",
        "    csv_writer = csv.writer(f)\n",
        "    csv_writer.writerow([\"id\", \"prompt\", \"Aggressive\", \"Control\"])\n",
        "\n",
        "    processed = 0\n",
        "    skipped = 0\n",
        "\n",
        "    for id in all_ids:\n",
        "        image_paths = [os.path.join(folder_path, f\"{id}_deceptive.png\"),\n",
        "                       os.path.join(folder_path, f\"{id}_original.png\")]\n",
        "\n",
        "        # Check if all images exist\n",
        "        if all(os.path.exists(image) for image in image_paths):\n",
        "            print(f\"✅ Processing {id}\")\n",
        "\n",
        "            responses = []\n",
        "            for image in image_paths:\n",
        "                try:\n",
        "                    response = generate_response(model_name, prompt, image)\n",
        "                    responses.append(response)\n",
        "                    print(f\" - {image} Processed\")\n",
        "                except Exception as e:\n",
        "                    responses.append(\"ERROR\")\n",
        "                    print(f\"❌ Failed {image}: {e}\")\n",
        "            print(f\"Completed {processed+1} out of 100\")\n",
        "            csv_writer.writerow([id, prompt] + responses)\n",
        "            processed += 1\n",
        "        else:\n",
        "            print(f\"⚠️ Skipping {id} (Missing Images)\")\n",
        "            skipped += 1\n",
        "\n",
        "        # Stop after 100 processed IDs\n",
        "        if processed == 100:\n",
        "            print(\"✅ Experiment Completed for 100 IDs\")\n",
        "\n",
        "    print(f\"Total Processed: {processed}, Total Skipped: {skipped}\")\n"
      ],
      "metadata": {
        "id": "xYU0K8h9zyqc"
      },
      "execution_count": null,
      "outputs": []
    },
    {
      "cell_type": "markdown",
      "source": [
        "\n",
        "\n",
        "---\n",
        "\n",
        "# Distorted Projection\n",
        "\n",
        "---\n",
        "\n"
      ],
      "metadata": {
        "id": "xTTDnqqGC4CR"
      }
    },
    {
      "cell_type": "markdown",
      "source": [
        "Getting Response from GPT 4o\n",
        "\n",
        "\n",
        "---\n",
        "\n"
      ],
      "metadata": {
        "id": "AvcoNoHPC4CS"
      }
    },
    {
      "cell_type": "code",
      "source": [
        "prompt=\"\"\"\n",
        "Analyze the given chart and determine the correct answer to the multiple-choice question. Select the option number that best aligns with the data presented.\n",
        "\n",
        "\n",
        "Additionally, provide a concise yet comprehensive 1 line explanation justifying the selected option. The explanation should include:\n",
        "\n",
        "\n",
        "1. The rationale for choosing the correct answer.\n",
        "2. The reasons why the other options are incorrect.\n",
        "\n",
        "\n",
        "**The output should strictly follow the given format**:\n",
        "\n",
        "\n",
        "Option {1-7}: {1 line explanation covering both selection and elimination reasons}\n",
        "\n",
        "\n",
        "Question: Which statement best describes the disparity between the highest and the second highest quantity in the pie chart?\n",
        "\n",
        "\n",
        "Answer Options:\n",
        "1. No disparity: The two largest segments represent equal quantities.\n",
        "2. Extremely small disparity: The largest segment represents 1x to more than 1.25x the quantity of the second-largest segment.\n",
        "3. Very small disparity: The largest segment represents 1.25x to more than 1.5x the quantity of the second-largest segment.\n",
        "4. Small disparity: The largest segment represents 1.5x to more than 2x the quantity of the second-largest segment.\n",
        "5. Moderate disparity: The largest segment represents 2x to more than 3x the quantity of the second-largest segment.\n",
        "6. Large disparity: The largest segment represents 3x to more than 5x the quantity of the second-largest segment.\n",
        "7. Very large disparity: The largest segment represents more than 5x the quantity of the second-largest segment.\n",
        "\"\"\"\n",
        "\n"
      ],
      "metadata": {
        "id": "pK05R3QXC4CS"
      },
      "execution_count": null,
      "outputs": []
    },
    {
      "cell_type": "code",
      "source": [
        "# Parameters\n",
        "model_name = \"gpt-4o\"\n",
        "folder_path = \"/content/drive/MyDrive/Visual_Deception/Data/FinalDataset/DistortedProjection\"  # Change this\n",
        "all_ids = list(set([file.split(\"_\")[1]+\"_\"+ file.split(\"_\")[2] +\"_\"+ file.split(\"_\")[3] for file in os.listdir(folder_path)]))\n",
        "print(f\"Total IDs Found: {len(all_ids)}\")\n",
        "\n",
        "# Open CSV to Write\n",
        "with open(\"/content/drive/MyDrive/Visual_Deception/Responses/GPT4o_Responses/Distorted_Projection_Responses_2.csv\", \"w+\", newline=\"\") as f:\n",
        "    csv_writer = csv.writer(f)\n",
        "    csv_writer.writerow([\"id\", \"prompt\", \"Aggressive\", \"Control\"])\n",
        "\n",
        "    processed = 0\n",
        "    skipped = 0\n",
        "\n",
        "    for id in all_ids:\n",
        "        image_paths = [os.path.join(folder_path, f\"3d_{id}\"),\n",
        "                       os.path.join(folder_path, f\"2d_{id}\")]\n",
        "\n",
        "        # Check if all images exist\n",
        "        if all(os.path.exists(image) for image in image_paths):\n",
        "            print(f\"✅ Processing {id}\")\n",
        "\n",
        "            responses = []\n",
        "            for image in image_paths:\n",
        "                try:\n",
        "                    response = generate_response(model_name, prompt, image)\n",
        "                    responses.append(response)\n",
        "                    print(f\" - {image} Processed\")\n",
        "                except Exception as e:\n",
        "                    responses.append(\"ERROR\")\n",
        "                    print(f\"❌ Failed {image}: {e}\")\n",
        "            print(f\"Completed {processed+1} out of 100\")\n",
        "            csv_writer.writerow([id, prompt] + responses)\n",
        "            processed += 1\n",
        "        else:\n",
        "            print(f\"⚠️ Skipping {id} (Missing Images)\")\n",
        "            skipped += 1\n",
        "\n",
        "        # Stop after 100 processed IDs\n",
        "        if processed == 100:\n",
        "            print(\"✅ Experiment Completed for 100 IDs\")\n",
        "\n",
        "    print(f\"Total Processed: {processed}, Total Skipped: {skipped}\")\n"
      ],
      "metadata": {
        "id": "AXO0PvTKC4CS"
      },
      "execution_count": null,
      "outputs": []
    },
    {
      "cell_type": "markdown",
      "source": [
        "\n",
        "\n",
        "---\n",
        "\n",
        "# Inappropiate Categorical Encoding\n",
        "\n",
        "---\n",
        "\n"
      ],
      "metadata": {
        "id": "Lk9XZXVUF1mP"
      }
    },
    {
      "cell_type": "markdown",
      "source": [
        "Getting Response from GPT 4o\n",
        "\n",
        "\n",
        "---\n",
        "\n"
      ],
      "metadata": {
        "id": "k2up4Vs0F1mQ"
      }
    },
    {
      "cell_type": "code",
      "source": [
        "prompt=\"\"\"\n",
        "Analyze the given chart and determine the correct answer to the multiple-choice question. Select the option number that best aligns with the data presented.\n",
        "\n",
        "\n",
        "\n",
        "\n",
        "Additionally, provide a concise yet comprehensive 1 line explanation justifying the selected option. The explanation should include:\n",
        "\n",
        "\n",
        "\n",
        "\n",
        "1. The rationale for choosing the correct answer.\n",
        "2. The reasons why the other options are incorrect.\n",
        "\n",
        "\n",
        "\n",
        "\n",
        "**The output should strictly follow the given format**:\n",
        "\n",
        "\n",
        "\n",
        "\n",
        "Option {1-7}: {1 line explanation covering both selection and elimination reasons}\n",
        "\n",
        "\n",
        "\n",
        "\n",
        "Question: How would you describe the overall trend depicted in the chart?\n",
        "\n",
        "\n",
        "\n",
        "\n",
        "Answer Options:\n",
        "1. Neutral: There is no significant upward or downward trend in the chart.\n",
        "2. Extremely Weak: The y-values change for 1% to less than 5% of the x-axis range, with an almost negligible trend.\n",
        "3. Very Weak: The y-values change for 5% to less than 10% of the x-axis range, with a slight increasing or decreasing tendency.\n",
        "4. Weak: The y-values change for 10% to less than 20% of the x-axis range, showing a minor but noticeable trend.\n",
        "5. Strong: The y-values change for 20% to less than 50% of the x-axis range, with a somewhat clear upward or downward pattern.\n",
        "6. Very Strong: The y-values change for 50% to less than 75% of the x-axis range, following a well-defined increasing or decreasing trend.\n",
        "7. Extremely Strong: The y-values change for 75% to 100% of the x-axis range, with a strong and consistent upward or downward trend.\n",
        "\n",
        "\n",
        "\"\"\"\n",
        "\n",
        "\n"
      ],
      "metadata": {
        "id": "rtb1dYJQF1mQ"
      },
      "execution_count": null,
      "outputs": []
    },
    {
      "cell_type": "code",
      "source": [
        "# Parameters\n",
        "model_name = \"gpt-4o\"\n",
        "folder_path = \"/content/drive/MyDrive/Visual_Deception/Data/FinalDataset/InappropriateCategoricalEncoding\"  # Change this\n",
        "all_ids = list(set([file.split(\"_\")[0] for file in os.listdir(folder_path)]))\n",
        "print(f\"Total IDs Found: {len(all_ids)}\")\n",
        "\n",
        "# Open CSV to Write\n",
        "with open(\"/content/drive/MyDrive/Visual_Deception/Responses/GPT4o_Responses/Inappropriate_Categorical_Encoding_Responses.csv\", \"w+\", newline=\"\") as f:\n",
        "    csv_writer = csv.writer(f)\n",
        "    csv_writer.writerow([\"id\", \"prompt\", \"Aggressive\", \"Control\"])\n",
        "\n",
        "    processed = 0\n",
        "    skipped = 0\n",
        "\n",
        "    for id in all_ids:\n",
        "        image_paths = [os.path.join(folder_path, f\"{id}_misleading.png\"),\n",
        "                       os.path.join(folder_path, f\"{id}_regular.png\")]\n",
        "\n",
        "        # Check if all images exist\n",
        "        if all(os.path.exists(image) for image in image_paths):\n",
        "            print(f\"✅ Processing {id}\")\n",
        "\n",
        "            responses = []\n",
        "            for image in image_paths:\n",
        "                try:\n",
        "                    response = generate_response(model_name, prompt, image)\n",
        "                    responses.append(response)\n",
        "                    print(f\" - {image} Processed\")\n",
        "                except Exception as e:\n",
        "                    responses.append(\"ERROR\")\n",
        "                    print(f\"❌ Failed {image}: {e}\")\n",
        "            print(f\"Completed {processed+1} out of 100\")\n",
        "            csv_writer.writerow([id, prompt] + responses)\n",
        "            processed += 1\n",
        "        else:\n",
        "            print(f\"⚠️ Skipping {id} (Missing Images)\")\n",
        "            skipped += 1\n",
        "\n",
        "        # Stop after 100 processed IDs\n",
        "        if processed == 100:\n",
        "            print(\"✅ Experiment Completed for 100 IDs\")\n",
        "\n",
        "    print(f\"Total Processed: {processed}, Total Skipped: {skipped}\")\n"
      ],
      "metadata": {
        "id": "_xIZ2-O4F1mQ"
      },
      "execution_count": null,
      "outputs": []
    },
    {
      "cell_type": "markdown",
      "source": [
        "\n",
        "\n",
        "---\n",
        "\n",
        "# Inappropiate Continuous Encoding\n",
        "\n",
        "---\n",
        "\n"
      ],
      "metadata": {
        "id": "gvYiyMaTJSTK"
      }
    },
    {
      "cell_type": "markdown",
      "source": [
        "Getting Response from GPT 4o\n",
        "\n",
        "\n",
        "---\n",
        "\n"
      ],
      "metadata": {
        "id": "ce6HBHUmJSTL"
      }
    },
    {
      "cell_type": "code",
      "source": [
        "prompt=\"\"\"\n",
        "Analyze the given chart and determine the correct answer to the multiple-choice question. Select the option number that best aligns with the data presented.\n",
        "\n",
        "\n",
        "Additionally, provide a concise yet comprehensive 1 line explanation justifying the selected option. The explanation should include:\n",
        "\n",
        "\n",
        "1. The rationale for choosing the correct answer.\n",
        "2. The reasons why the other options are incorrect.\n",
        "\n",
        "\n",
        "**The output should strictly follow the given format**:\n",
        "\n",
        "\n",
        "Option {1-7}: {1 line explanation covering both selection and elimination reasons}\n",
        "\n",
        "\n",
        "Question: How would you describe the overall trend depicted in the chart?\n",
        "\n",
        "\n",
        "Answer Options:\n",
        "1. No Trend: The data primarily represents categorical values.\n",
        "2. Extremely Weak: The y-values change for 1% to less than 5% of the x-axis range, with an almost negligible trend.\n",
        "3. Very Weak: The y-values change for 5% to less than 10% of the x-axis range, with a slight increasing or decreasing tendency.\n",
        "4. Weak: The y-values change for 10% to less than 20% of the x-axis range, showing a minor but noticeable trend.\n",
        "5. Strong: The y-values change for 20% to less than 50% of the x-axis range, with a somewhat clear upward or downward pattern.\n",
        "6. Very Strong: The y-values change for 50% to less than 75% of the x-axis range, following a well-defined increasing or decreasing trend.\n",
        "7. Extremely Strong: The y-values change for 75% to 100% of the x-axis range, with a strong and consistent upward or downward trend.\n",
        "\"\"\"\n",
        "\n",
        "\n",
        "\n",
        "\n",
        "\n",
        "\n",
        "\n",
        "\n",
        "\n"
      ],
      "metadata": {
        "id": "-X_QZc3wJSTL"
      },
      "execution_count": null,
      "outputs": []
    },
    {
      "cell_type": "code",
      "source": [
        "# Parameters\n",
        "model_name = \"gpt-4o\"\n",
        "folder_path = \"/content/drive/MyDrive/Visual_Deception/Data/FinalDataset/InappropriateContinuousEncoding\"  # Change this\n",
        "all_ids = list(set([file.split(\"_\")[0] for file in os.listdir(folder_path)]))\n",
        "print(f\"Total IDs Found: {len(all_ids)}\")\n",
        "\n",
        "# Open CSV to Write\n",
        "with open(\"/content/drive/MyDrive/Visual_Deception/Responses/GPT4o_Responses/Inappropriate_Continuous_Encoding_Responses_2.csv\", \"w+\", newline=\"\") as f:\n",
        "    csv_writer = csv.writer(f)\n",
        "    csv_writer.writerow([\"id\", \"prompt\", \"Aggressive\", \"Control\"])\n",
        "\n",
        "    processed = 0\n",
        "    skipped = 0\n",
        "\n",
        "    for id in all_ids:\n",
        "        image_paths = [os.path.join(folder_path, f\"{id}_misleading.png\"),\n",
        "                       os.path.join(folder_path, f\"{id}_regular.png\")]\n",
        "\n",
        "        # Check if all images exist\n",
        "        if all(os.path.exists(image) for image in image_paths):\n",
        "            print(f\"✅ Processing {id}\")\n",
        "\n",
        "            responses = []\n",
        "            for image in image_paths:\n",
        "                try:\n",
        "                    response = generate_response(model_name, prompt, image)\n",
        "                    responses.append(response)\n",
        "                    print(f\" - {image} Processed\")\n",
        "                except Exception as e:\n",
        "                    responses.append(\"ERROR\")\n",
        "                    print(f\"❌ Failed {image}: {e}\")\n",
        "            print(f\"Completed {processed+1} out of 100\")\n",
        "            csv_writer.writerow([id, prompt] + responses)\n",
        "            processed += 1\n",
        "        else:\n",
        "            print(f\"⚠️ Skipping {id} (Missing Images)\")\n",
        "            skipped += 1\n",
        "\n",
        "        # Stop after 100 processed IDs\n",
        "        if processed == 100:\n",
        "            print(\"✅ Experiment Completed for 100 IDs\")\n",
        "\n",
        "    print(f\"Total Processed: {processed}, Total Skipped: {skipped}\")\n"
      ],
      "metadata": {
        "id": "RLy_KxG8JSTL"
      },
      "execution_count": null,
      "outputs": []
    }
  ]
}